{
 "cells": [
  {
   "cell_type": "code",
   "execution_count": 1,
   "metadata": {
    "collapsed": true
   },
   "outputs": [],
   "source": [
    "import numpy as np\n",
    "from scipy.optimize import minimize\n",
    "import matplotlib.pyplot as plt"
   ]
  },
  {
   "cell_type": "code",
   "execution_count": 2,
   "metadata": {
    "collapsed": true
   },
   "outputs": [],
   "source": [
    "def value(cost):\n",
    "    x = 4.5\n",
    "    res = 70\n",
    "    step = 25\n",
    "    factor = 0.9\n",
    "    while x < cost:\n",
    "        step *= factor\n",
    "        res += step\n",
    "        x += 0.5\n",
    "    return res\n",
    "\n",
    "# These are set manually. Can be experimented with.\n",
    "PMAX = {'d': 300, 'm': 400, 'f': 400}\n",
    "PMIN = {'d': 100, 'm': 70,  'f': 80}\n",
    "TAU  = {'d': 0.2, 'm': 0.1, 'f': 0.1}\n",
    "OFFS = {'d': 4.5, 'm': 4.5, 'f': 5.5}\n",
    "\n",
    "\n",
    "def expgrowth(x, t):\n",
    "    val = (PMAX[t] - PMIN[t]) * np.exp( - TAU[t] * (x - OFFS[t]))\n",
    "    res = PMAX[t] - val\n",
    "    der = TAU[t] * val\n",
    "    return res, der\n",
    "\n",
    "\n",
    "def mfunc(arr, ptype):\n",
    "    res = 0\n",
    "    der = np.zeros_like(arr)\n",
    "    for i, x in enumerate(arr):\n",
    "        a, b = expgrowth(x, ptype[i])\n",
    "        res += a\n",
    "        der[i] = b\n",
    "    return -res, -der"
   ]
  },
  {
   "cell_type": "code",
   "execution_count": 3,
   "metadata": {
    "collapsed": false
   },
   "outputs": [
    {
     "name": "stdout",
     "output_type": "stream",
     "text": [
      " 4.5  100   46\n",
      " 5.0  119   64\n",
      " 5.5  136   80\n",
      " 6.0  152   96\n",
      " 6.5  166  110\n",
      " 7.0  179  125\n",
      " 7.5  190  138\n",
      " 8.0  201  151\n",
      " 8.5  210  163\n",
      " 9.0  219  174\n",
      " 9.5  226  185\n",
      "10.0  233  196\n",
      "10.5  240  206\n",
      "11.0  245  215\n",
      "11.5  251  224\n",
      "12.0  255  233\n",
      "12.5  260  241\n",
      "13.0  263  249\n"
     ]
    },
    {
     "data": {
      "image/png": "[encoded data removed]",
      "text/plain": [
       "<matplotlib.figure.Figure at 0x7f15df495940>"
      ]
     },
     "metadata": {},
     "output_type": "display_data"
    }
   ],
   "source": [
    "## Compare exponential growth and value function\n",
    "\n",
    "xvals = np.arange(4.5, 13.1, 0.5)\n",
    "yvals1 = np.zeros_like(xvals)\n",
    "yvals2 = np.zeros_like(xvals)\n",
    "for i, x in enumerate(xvals):\n",
    "    #yvals1[i] = value(x)\n",
    "    yvals1[i] = expgrowth(x, 'd')[0]\n",
    "    yvals2[i] = expgrowth(x, 'f')[0]\n",
    "    print(\"{:4.1f} {:4.0f} {:4.0f}\".format(x, yvals1[i], yvals2[i]))\n",
    "    \n",
    "fig = plt.figure()\n",
    "ax1 = fig.add_subplot(111)\n",
    "ax1.scatter(xvals, yvals1)\n",
    "ax1.plot(xvals, yvals2)\n",
    "plt.show()"
   ]
  },
  {
   "cell_type": "code",
   "execution_count": 54,
   "metadata": {
    "collapsed": true
   },
   "outputs": [],
   "source": [
    "ngfix = 1\n",
    "pgfix = 8.5\n",
    "ndfix = 1\n",
    "pdfix = 6.0\n",
    "nmfix = 2\n",
    "pmfix = 17\n",
    "nffix = 0\n",
    "pffix = 0\n",
    "pbench = 14\n",
    "nfix = ngfix + ndfix + nmfix + nffix\n",
    "pfix = pgfix + pdfix + pmfix + pffix\n",
    "n = 11 - nfix\n",
    "cmax = 100 - pfix - pbench\n",
    "\n",
    "xinit = np.repeat(5, n)\n",
    "def get_bounds(f):\n",
    "    bounds = [[4.5, 6.5]] * min(2, f[0]) \\\n",
    "           + [[4.5, 6.0]] * min(2, (f[0] - 2)) \\\n",
    "           + [[4.5, 5.5]] * max(0, (f[0] - 4)) \\\n",
    "           + [[5.5, 13]] * min(1, f[1]) \\\n",
    "           + [[5.5, 11]] * min(1, (f[1] - 1)) \\\n",
    "           + [[5.5, 10.5]] * min(2, (f[1] - 2)) \\\n",
    "           + [[5.5, 10.0]] * max(0, (f[1] - 4)) \\\n",
    "           + [[6.5, 12.5]] * min(1, f[2]) \\\n",
    "           + [[6.5, 11]] * (f[2] - 1)\n",
    "    return bounds\n",
    "\n",
    "fmin = 0 if nffix > 0 else 1\n",
    "options = [[d, n - a - d, a] for a in range(fmin, 4 - nffix) for d in range(3 - ndfix, 6 - ndfix) if a + d >= 5 - nffix - ndfix ]"
   ]
  },
  {
   "cell_type": "code",
   "execution_count": 55,
   "metadata": {
    "collapsed": false
   },
   "outputs": [
    {
     "name": "stdout",
     "output_type": "stream",
     "text": [
      "[3, 3, 1] 1216.57383439 [' 6.5', ' 6.5', ' 6.0', ' 8.7', ' 8.7', ' 8.7', ' 9.4']\n",
      "[4, 2, 1] 1241.20696524 [' 6.5', ' 6.5', ' 6.0', ' 6.0', ' 9.6', ' 9.6', '10.3']\n",
      "[2, 3, 2] 1171.81790191 [' 6.5', ' 6.5', ' 8.0', ' 8.0', ' 8.0', ' 8.7', ' 8.7']\n",
      "[3, 2, 2] 1201.43564243 [' 6.5', ' 6.5', ' 6.0', ' 8.5', ' 8.5', ' 9.2', ' 9.2']\n",
      "[4, 1, 2] 1227.33249142 [' 6.5', ' 6.5', ' 6.0', ' 6.0', ' 9.4', '10.1', '10.1']\n",
      "[2, 2, 3] 1155.64447034 [' 6.5', ' 6.5', ' 7.9', ' 7.9', ' 8.6', ' 8.6', ' 8.6']\n",
      "[3, 1, 3] 1186.03317214 [' 6.5', ' 6.5', ' 6.0', ' 8.4', ' 9.0', ' 9.0', ' 9.0']\n",
      "[4, 0, 3] 1213.13412595 [' 6.5', ' 6.5', ' 6.0', ' 6.0', ' 9.8', ' 9.8', ' 9.8']\n"
     ]
    }
   ],
   "source": [
    "eq_cons = {'type': 'eq',\n",
    "           'fun' : lambda x: np.array([np.sum(x) - cmax]),\n",
    "           'jac' : lambda x: np.repeat(1.0, n)}\n",
    "\n",
    "\n",
    "for form in options:\n",
    "    #print(form)\n",
    "    args = ['d'] * form[0] + ['m'] * form[1] + ['f'] * form[2]\n",
    "    bounds = get_bounds(form)\n",
    "    #print(bounds)\n",
    "    #print(args)\n",
    "    res = minimize(mfunc, xinit, args = args, method='SLSQP', jac=True,\n",
    "                   constraints=[eq_cons], options={'ftol': 1e-9, 'disp': False},\n",
    "                   bounds=bounds)\n",
    "    print (form, -res.fun, ['{:4.1f}'.format(x) for x in res.x])"
   ]
  },
  {
   "cell_type": "code",
   "execution_count": null,
   "metadata": {
    "collapsed": true
   },
   "outputs": [],
   "source": []
  }
 ],
 "metadata": {
  "kernelspec": {
   "display_name": "Python 3",
   "language": "python",
   "name": "python3"
  },
  "language_info": {
   "codemirror_mode": {
    "name": "ipython",
    "version": 3
   },
   "file_extension": ".py",
   "mimetype": "text/x-python",
   "name": "python",
   "nbconvert_exporter": "python",
   "pygments_lexer": "ipython3",
   "version": "3.6.0"
  }
 },
 "nbformat": 4,
 "nbformat_minor": 2
}
